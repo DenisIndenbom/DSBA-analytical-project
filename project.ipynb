{
 "cells": [
  {
   "metadata": {},
   "cell_type": "markdown",
   "source": "# Earthquakes 1990-2023\n",
   "id": "359218b2de05a6fa"
  },
  {
   "metadata": {
    "ExecuteTime": {
     "end_time": "2024-11-13T12:44:22.712878700Z",
     "start_time": "2024-11-13T12:43:57.625609Z"
    }
   },
   "cell_type": "code",
   "source": "%matplotlib inline",
   "id": "5eece263c0126e26",
   "outputs": [],
   "execution_count": 1
  },
  {
   "cell_type": "code",
   "id": "initial_id",
   "metadata": {
    "collapsed": true,
    "ExecuteTime": {
     "end_time": "2024-11-13T12:59:29.783356Z",
     "start_time": "2024-11-13T12:59:29.780892Z"
    }
   },
   "source": "import pandas as pd",
   "outputs": [],
   "execution_count": 39
  },
  {
   "metadata": {
    "ExecuteTime": {
     "end_time": "2024-11-13T12:44:04.069390Z",
     "start_time": "2024-11-13T12:43:58.451802Z"
    }
   },
   "cell_type": "code",
   "source": "df = pd.read_csv('./data/Eartquakes-1990-2023.csv')",
   "id": "c851051f8c33cf97",
   "outputs": [],
   "execution_count": 3
  },
  {
   "metadata": {
    "ExecuteTime": {
     "end_time": "2024-11-13T12:44:04.094480Z",
     "start_time": "2024-11-13T12:44:04.083978Z"
    }
   },
   "cell_type": "code",
   "source": "df.head()",
   "id": "76c97f2de3ec440d",
   "outputs": [
    {
     "data": {
      "text/plain": [
       "           time                                 place    status  tsunami  \\\n",
       "0  631153353990     12 km NNW of Meadow Lakes, Alaska  reviewed        0   \n",
       "1  631153491210            14 km S of Volcano, Hawaii  reviewed        0   \n",
       "2  631154083450            7 km W of Cobb, California  reviewed        0   \n",
       "3  631155512130  11 km E of Mammoth Lakes, California  reviewed        0   \n",
       "4  631155824490                16km N of Fillmore, CA  reviewed        0   \n",
       "\n",
       "   significance   data_type  magnitudo        state   longitude   latitude  \\\n",
       "0            96  earthquake       2.50       Alaska -149.669200  61.730200   \n",
       "1            31  earthquake       1.41       Hawaii -155.212333  19.317667   \n",
       "2            19  earthquake       1.11   California -122.806167  38.821000   \n",
       "3            15  earthquake       0.98   California -118.846333  37.664333   \n",
       "4           134  earthquake       2.95   California -118.934000  34.546000   \n",
       "\n",
       "    depth                              date  \n",
       "0  30.100  1990-01-01 00:22:33.990000+00:00  \n",
       "1   6.585  1990-01-01 00:24:51.210000+00:00  \n",
       "2   3.220  1990-01-01 00:34:43.450000+00:00  \n",
       "3  -0.584  1990-01-01 00:58:32.130000+00:00  \n",
       "4  16.122  1990-01-01 01:03:44.490000+00:00  "
      ],
      "text/html": [
       "<div>\n",
       "<style scoped>\n",
       "    .dataframe tbody tr th:only-of-type {\n",
       "        vertical-align: middle;\n",
       "    }\n",
       "\n",
       "    .dataframe tbody tr th {\n",
       "        vertical-align: top;\n",
       "    }\n",
       "\n",
       "    .dataframe thead th {\n",
       "        text-align: right;\n",
       "    }\n",
       "</style>\n",
       "<table border=\"1\" class=\"dataframe\">\n",
       "  <thead>\n",
       "    <tr style=\"text-align: right;\">\n",
       "      <th></th>\n",
       "      <th>time</th>\n",
       "      <th>place</th>\n",
       "      <th>status</th>\n",
       "      <th>tsunami</th>\n",
       "      <th>significance</th>\n",
       "      <th>data_type</th>\n",
       "      <th>magnitudo</th>\n",
       "      <th>state</th>\n",
       "      <th>longitude</th>\n",
       "      <th>latitude</th>\n",
       "      <th>depth</th>\n",
       "      <th>date</th>\n",
       "    </tr>\n",
       "  </thead>\n",
       "  <tbody>\n",
       "    <tr>\n",
       "      <th>0</th>\n",
       "      <td>631153353990</td>\n",
       "      <td>12 km NNW of Meadow Lakes, Alaska</td>\n",
       "      <td>reviewed</td>\n",
       "      <td>0</td>\n",
       "      <td>96</td>\n",
       "      <td>earthquake</td>\n",
       "      <td>2.50</td>\n",
       "      <td>Alaska</td>\n",
       "      <td>-149.669200</td>\n",
       "      <td>61.730200</td>\n",
       "      <td>30.100</td>\n",
       "      <td>1990-01-01 00:22:33.990000+00:00</td>\n",
       "    </tr>\n",
       "    <tr>\n",
       "      <th>1</th>\n",
       "      <td>631153491210</td>\n",
       "      <td>14 km S of Volcano, Hawaii</td>\n",
       "      <td>reviewed</td>\n",
       "      <td>0</td>\n",
       "      <td>31</td>\n",
       "      <td>earthquake</td>\n",
       "      <td>1.41</td>\n",
       "      <td>Hawaii</td>\n",
       "      <td>-155.212333</td>\n",
       "      <td>19.317667</td>\n",
       "      <td>6.585</td>\n",
       "      <td>1990-01-01 00:24:51.210000+00:00</td>\n",
       "    </tr>\n",
       "    <tr>\n",
       "      <th>2</th>\n",
       "      <td>631154083450</td>\n",
       "      <td>7 km W of Cobb, California</td>\n",
       "      <td>reviewed</td>\n",
       "      <td>0</td>\n",
       "      <td>19</td>\n",
       "      <td>earthquake</td>\n",
       "      <td>1.11</td>\n",
       "      <td>California</td>\n",
       "      <td>-122.806167</td>\n",
       "      <td>38.821000</td>\n",
       "      <td>3.220</td>\n",
       "      <td>1990-01-01 00:34:43.450000+00:00</td>\n",
       "    </tr>\n",
       "    <tr>\n",
       "      <th>3</th>\n",
       "      <td>631155512130</td>\n",
       "      <td>11 km E of Mammoth Lakes, California</td>\n",
       "      <td>reviewed</td>\n",
       "      <td>0</td>\n",
       "      <td>15</td>\n",
       "      <td>earthquake</td>\n",
       "      <td>0.98</td>\n",
       "      <td>California</td>\n",
       "      <td>-118.846333</td>\n",
       "      <td>37.664333</td>\n",
       "      <td>-0.584</td>\n",
       "      <td>1990-01-01 00:58:32.130000+00:00</td>\n",
       "    </tr>\n",
       "    <tr>\n",
       "      <th>4</th>\n",
       "      <td>631155824490</td>\n",
       "      <td>16km N of Fillmore, CA</td>\n",
       "      <td>reviewed</td>\n",
       "      <td>0</td>\n",
       "      <td>134</td>\n",
       "      <td>earthquake</td>\n",
       "      <td>2.95</td>\n",
       "      <td>California</td>\n",
       "      <td>-118.934000</td>\n",
       "      <td>34.546000</td>\n",
       "      <td>16.122</td>\n",
       "      <td>1990-01-01 01:03:44.490000+00:00</td>\n",
       "    </tr>\n",
       "  </tbody>\n",
       "</table>\n",
       "</div>"
      ]
     },
     "execution_count": 4,
     "metadata": {},
     "output_type": "execute_result"
    }
   ],
   "execution_count": 4
  },
  {
   "metadata": {
    "ExecuteTime": {
     "end_time": "2024-11-13T12:44:04.129300Z",
     "start_time": "2024-11-13T12:44:04.126029Z"
    }
   },
   "cell_type": "code",
   "source": "df.shape",
   "id": "d4e17c2ad20d1ee6",
   "outputs": [
    {
     "data": {
      "text/plain": [
       "(3445751, 12)"
      ]
     },
     "execution_count": 5,
     "metadata": {},
     "output_type": "execute_result"
    }
   ],
   "execution_count": 5
  },
  {
   "metadata": {
    "ExecuteTime": {
     "end_time": "2024-11-13T12:44:04.885411Z",
     "start_time": "2024-11-13T12:44:04.185270Z"
    }
   },
   "cell_type": "code",
   "source": "df.describe()",
   "id": "1c276cc6e1a4d8e8",
   "outputs": [
    {
     "data": {
      "text/plain": [
       "               time       tsunami  significance     magnitudo     longitude  \\\n",
       "count  3.445751e+06  3.445751e+06  3.445751e+06  3.445751e+06  3.445751e+06   \n",
       "mean   1.247124e+12  4.434447e-04  7.400973e+01  1.774076e+00 -1.012876e+02   \n",
       "std    2.976292e+11  2.105346e-02  1.016364e+02  1.291055e+00  7.697416e+01   \n",
       "min    6.311534e+11  0.000000e+00  0.000000e+00 -9.990000e+00 -1.799997e+02   \n",
       "25%    1.024401e+12  0.000000e+00  1.300000e+01  9.100000e-01 -1.464274e+02   \n",
       "50%    1.282338e+12  0.000000e+00  3.300000e+01  1.460000e+00 -1.189538e+02   \n",
       "75%    1.508701e+12  0.000000e+00  8.100000e+01  2.300000e+00 -1.159277e+02   \n",
       "max    1.690629e+12  1.000000e+00  2.910000e+03  9.100000e+00  1.800000e+02   \n",
       "\n",
       "           latitude         depth  \n",
       "count  3.445751e+06  3.445751e+06  \n",
       "mean   3.746483e+01  2.285387e+01  \n",
       "std    2.041577e+01  5.484938e+01  \n",
       "min   -8.442200e+01 -1.000000e+01  \n",
       "25%    3.406400e+01  3.120000e+00  \n",
       "50%    3.793567e+01  7.700000e+00  \n",
       "75%    4.784800e+01  1.612000e+01  \n",
       "max    8.738600e+01  7.358000e+02  "
      ],
      "text/html": [
       "<div>\n",
       "<style scoped>\n",
       "    .dataframe tbody tr th:only-of-type {\n",
       "        vertical-align: middle;\n",
       "    }\n",
       "\n",
       "    .dataframe tbody tr th {\n",
       "        vertical-align: top;\n",
       "    }\n",
       "\n",
       "    .dataframe thead th {\n",
       "        text-align: right;\n",
       "    }\n",
       "</style>\n",
       "<table border=\"1\" class=\"dataframe\">\n",
       "  <thead>\n",
       "    <tr style=\"text-align: right;\">\n",
       "      <th></th>\n",
       "      <th>time</th>\n",
       "      <th>tsunami</th>\n",
       "      <th>significance</th>\n",
       "      <th>magnitudo</th>\n",
       "      <th>longitude</th>\n",
       "      <th>latitude</th>\n",
       "      <th>depth</th>\n",
       "    </tr>\n",
       "  </thead>\n",
       "  <tbody>\n",
       "    <tr>\n",
       "      <th>count</th>\n",
       "      <td>3.445751e+06</td>\n",
       "      <td>3.445751e+06</td>\n",
       "      <td>3.445751e+06</td>\n",
       "      <td>3.445751e+06</td>\n",
       "      <td>3.445751e+06</td>\n",
       "      <td>3.445751e+06</td>\n",
       "      <td>3.445751e+06</td>\n",
       "    </tr>\n",
       "    <tr>\n",
       "      <th>mean</th>\n",
       "      <td>1.247124e+12</td>\n",
       "      <td>4.434447e-04</td>\n",
       "      <td>7.400973e+01</td>\n",
       "      <td>1.774076e+00</td>\n",
       "      <td>-1.012876e+02</td>\n",
       "      <td>3.746483e+01</td>\n",
       "      <td>2.285387e+01</td>\n",
       "    </tr>\n",
       "    <tr>\n",
       "      <th>std</th>\n",
       "      <td>2.976292e+11</td>\n",
       "      <td>2.105346e-02</td>\n",
       "      <td>1.016364e+02</td>\n",
       "      <td>1.291055e+00</td>\n",
       "      <td>7.697416e+01</td>\n",
       "      <td>2.041577e+01</td>\n",
       "      <td>5.484938e+01</td>\n",
       "    </tr>\n",
       "    <tr>\n",
       "      <th>min</th>\n",
       "      <td>6.311534e+11</td>\n",
       "      <td>0.000000e+00</td>\n",
       "      <td>0.000000e+00</td>\n",
       "      <td>-9.990000e+00</td>\n",
       "      <td>-1.799997e+02</td>\n",
       "      <td>-8.442200e+01</td>\n",
       "      <td>-1.000000e+01</td>\n",
       "    </tr>\n",
       "    <tr>\n",
       "      <th>25%</th>\n",
       "      <td>1.024401e+12</td>\n",
       "      <td>0.000000e+00</td>\n",
       "      <td>1.300000e+01</td>\n",
       "      <td>9.100000e-01</td>\n",
       "      <td>-1.464274e+02</td>\n",
       "      <td>3.406400e+01</td>\n",
       "      <td>3.120000e+00</td>\n",
       "    </tr>\n",
       "    <tr>\n",
       "      <th>50%</th>\n",
       "      <td>1.282338e+12</td>\n",
       "      <td>0.000000e+00</td>\n",
       "      <td>3.300000e+01</td>\n",
       "      <td>1.460000e+00</td>\n",
       "      <td>-1.189538e+02</td>\n",
       "      <td>3.793567e+01</td>\n",
       "      <td>7.700000e+00</td>\n",
       "    </tr>\n",
       "    <tr>\n",
       "      <th>75%</th>\n",
       "      <td>1.508701e+12</td>\n",
       "      <td>0.000000e+00</td>\n",
       "      <td>8.100000e+01</td>\n",
       "      <td>2.300000e+00</td>\n",
       "      <td>-1.159277e+02</td>\n",
       "      <td>4.784800e+01</td>\n",
       "      <td>1.612000e+01</td>\n",
       "    </tr>\n",
       "    <tr>\n",
       "      <th>max</th>\n",
       "      <td>1.690629e+12</td>\n",
       "      <td>1.000000e+00</td>\n",
       "      <td>2.910000e+03</td>\n",
       "      <td>9.100000e+00</td>\n",
       "      <td>1.800000e+02</td>\n",
       "      <td>8.738600e+01</td>\n",
       "      <td>7.358000e+02</td>\n",
       "    </tr>\n",
       "  </tbody>\n",
       "</table>\n",
       "</div>"
      ]
     },
     "execution_count": 6,
     "metadata": {},
     "output_type": "execute_result"
    }
   ],
   "execution_count": 6
  },
  {
   "metadata": {
    "ExecuteTime": {
     "end_time": "2024-11-13T12:44:10.466789Z",
     "start_time": "2024-11-13T12:44:04.912529Z"
    }
   },
   "cell_type": "code",
   "source": "df.describe(include='object')",
   "id": "6bf8fec1b2a3e5e9",
   "outputs": [
    {
     "data": {
      "text/plain": [
       "                             place    status   data_type        state  \\\n",
       "count                      3445751   3445751     3445751      3445751   \n",
       "unique                      531130         6          25          858   \n",
       "top     6 km W of Cobb, California  reviewed  earthquake   California   \n",
       "freq                         24202   3224825     3361846       866675   \n",
       "\n",
       "                                    date  \n",
       "count                            3445751  \n",
       "unique                           3428775  \n",
       "top     2022-03-01 04:29:53.805000+00:00  \n",
       "freq                                   4  "
      ],
      "text/html": [
       "<div>\n",
       "<style scoped>\n",
       "    .dataframe tbody tr th:only-of-type {\n",
       "        vertical-align: middle;\n",
       "    }\n",
       "\n",
       "    .dataframe tbody tr th {\n",
       "        vertical-align: top;\n",
       "    }\n",
       "\n",
       "    .dataframe thead th {\n",
       "        text-align: right;\n",
       "    }\n",
       "</style>\n",
       "<table border=\"1\" class=\"dataframe\">\n",
       "  <thead>\n",
       "    <tr style=\"text-align: right;\">\n",
       "      <th></th>\n",
       "      <th>place</th>\n",
       "      <th>status</th>\n",
       "      <th>data_type</th>\n",
       "      <th>state</th>\n",
       "      <th>date</th>\n",
       "    </tr>\n",
       "  </thead>\n",
       "  <tbody>\n",
       "    <tr>\n",
       "      <th>count</th>\n",
       "      <td>3445751</td>\n",
       "      <td>3445751</td>\n",
       "      <td>3445751</td>\n",
       "      <td>3445751</td>\n",
       "      <td>3445751</td>\n",
       "    </tr>\n",
       "    <tr>\n",
       "      <th>unique</th>\n",
       "      <td>531130</td>\n",
       "      <td>6</td>\n",
       "      <td>25</td>\n",
       "      <td>858</td>\n",
       "      <td>3428775</td>\n",
       "    </tr>\n",
       "    <tr>\n",
       "      <th>top</th>\n",
       "      <td>6 km W of Cobb, California</td>\n",
       "      <td>reviewed</td>\n",
       "      <td>earthquake</td>\n",
       "      <td>California</td>\n",
       "      <td>2022-03-01 04:29:53.805000+00:00</td>\n",
       "    </tr>\n",
       "    <tr>\n",
       "      <th>freq</th>\n",
       "      <td>24202</td>\n",
       "      <td>3224825</td>\n",
       "      <td>3361846</td>\n",
       "      <td>866675</td>\n",
       "      <td>4</td>\n",
       "    </tr>\n",
       "  </tbody>\n",
       "</table>\n",
       "</div>"
      ]
     },
     "execution_count": 7,
     "metadata": {},
     "output_type": "execute_result"
    }
   ],
   "execution_count": 7
  },
  {
   "metadata": {},
   "cell_type": "markdown",
   "source": "## Descriptive statistics",
   "id": "30ea2bbd10c158ce"
  },
  {
   "metadata": {
    "ExecuteTime": {
     "end_time": "2024-11-13T12:44:10.628702Z",
     "start_time": "2024-11-13T12:44:10.533672Z"
    }
   },
   "cell_type": "code",
   "source": "df['significance'].mean(), df['significance'].median(), df['significance'].std()",
   "id": "28d06eb3127210a2",
   "outputs": [
    {
     "data": {
      "text/plain": [
       "(np.float64(74.00973459776984),\n",
       " np.float64(33.0),\n",
       " np.float64(101.63641469964334))"
      ]
     },
     "execution_count": 8,
     "metadata": {},
     "output_type": "execute_result"
    }
   ],
   "execution_count": 8
  },
  {
   "metadata": {
    "ExecuteTime": {
     "end_time": "2024-11-13T12:44:10.791673Z",
     "start_time": "2024-11-13T12:44:10.683724Z"
    }
   },
   "cell_type": "code",
   "source": "df['magnitudo'].mean(), df['magnitudo'].median(), df['magnitudo'].std()",
   "id": "1eef71ac2d6ce396",
   "outputs": [
    {
     "data": {
      "text/plain": [
       "(np.float64(1.7740761405603154),\n",
       " np.float64(1.46),\n",
       " np.float64(1.291055102657228))"
      ]
     },
     "execution_count": 9,
     "metadata": {},
     "output_type": "execute_result"
    }
   ],
   "execution_count": 9
  },
  {
   "metadata": {
    "ExecuteTime": {
     "end_time": "2024-11-13T12:44:10.916733Z",
     "start_time": "2024-11-13T12:44:10.815593Z"
    }
   },
   "cell_type": "code",
   "source": "df['depth'].mean(), df['depth'].median(), df['depth'].std()",
   "id": "fe4ec606c8194b3d",
   "outputs": [
    {
     "data": {
      "text/plain": [
       "(np.float64(22.85387383541199),\n",
       " np.float64(7.7),\n",
       " np.float64(54.849379345279466))"
      ]
     },
     "execution_count": 10,
     "metadata": {},
     "output_type": "execute_result"
    }
   ],
   "execution_count": 10
  },
  {
   "metadata": {},
   "cell_type": "markdown",
   "source": "## Clean up data",
   "id": "a5aa0ea9bd26ac12"
  },
  {
   "metadata": {
    "ExecuteTime": {
     "end_time": "2024-11-13T12:44:10.934671Z",
     "start_time": "2024-11-13T12:44:10.928737Z"
    }
   },
   "cell_type": "code",
   "source": "df.info()",
   "id": "5c019a98c41623da",
   "outputs": [
    {
     "name": "stdout",
     "output_type": "stream",
     "text": [
      "<class 'pandas.core.frame.DataFrame'>\n",
      "RangeIndex: 3445751 entries, 0 to 3445750\n",
      "Data columns (total 12 columns):\n",
      " #   Column        Dtype  \n",
      "---  ------        -----  \n",
      " 0   time          int64  \n",
      " 1   place         object \n",
      " 2   status        object \n",
      " 3   tsunami       int64  \n",
      " 4   significance  int64  \n",
      " 5   data_type     object \n",
      " 6   magnitudo     float64\n",
      " 7   state         object \n",
      " 8   longitude     float64\n",
      " 9   latitude      float64\n",
      " 10  depth         float64\n",
      " 11  date          object \n",
      "dtypes: float64(4), int64(3), object(5)\n",
      "memory usage: 315.5+ MB\n"
     ]
    }
   ],
   "execution_count": 11
  },
  {
   "metadata": {
    "ExecuteTime": {
     "end_time": "2024-11-13T12:44:11.469426Z",
     "start_time": "2024-11-13T12:44:10.960787Z"
    }
   },
   "cell_type": "code",
   "source": "df.isna().sum()",
   "id": "9a82dcbdbfe4b4b2",
   "outputs": [
    {
     "data": {
      "text/plain": [
       "time            0\n",
       "place           0\n",
       "status          0\n",
       "tsunami         0\n",
       "significance    0\n",
       "data_type       0\n",
       "magnitudo       0\n",
       "state           0\n",
       "longitude       0\n",
       "latitude        0\n",
       "depth           0\n",
       "date            0\n",
       "dtype: int64"
      ]
     },
     "execution_count": 12,
     "metadata": {},
     "output_type": "execute_result"
    }
   ],
   "execution_count": 12
  },
  {
   "metadata": {
    "ExecuteTime": {
     "end_time": "2024-11-13T12:44:16.907113Z",
     "start_time": "2024-11-13T12:44:11.498162Z"
    }
   },
   "cell_type": "code",
   "source": [
    "duplicate_rows = df[df.duplicated(keep='first')]\n",
    "num_duplicates = duplicate_rows.shape[0]\n",
    "\n",
    "print(f\"Number of duplicate rows: {num_duplicates}\")\n",
    "duplicate_rows"
   ],
   "id": "ff7e9909960ea3b6",
   "outputs": [
    {
     "name": "stdout",
     "output_type": "stream",
     "text": [
      "Number of duplicate rows: 16869\n"
     ]
    },
    {
     "data": {
      "text/plain": [
       "                  time                                place     status  \\\n",
       "9214      636249654650  3 km E of Mammoth Lakes, California   reviewed   \n",
       "9216      636249667890               4km N of Claremont, CA   reviewed   \n",
       "9218      636249694400               4km N of Claremont, CA   reviewed   \n",
       "9220      636249712400             5km NNE of Claremont, CA   reviewed   \n",
       "9222      636249724170               4km N of Claremont, CA   reviewed   \n",
       "...                ...                                  ...        ...   \n",
       "3386776  1677800561550                  6km WNW of Cobb, CA  automatic   \n",
       "3386778  1677800571801                        western Texas   reviewed   \n",
       "3386780  1677800938538       49 km N of Petersville, Alaska   reviewed   \n",
       "3386782  1677801044380          83 km NNW of Karluk, Alaska   reviewed   \n",
       "3386784  1677801390104        49 km W of Port-Olry, Vanuatu   reviewed   \n",
       "\n",
       "         tsunami  significance   data_type  magnitudo          state  \\\n",
       "9214           0            42  earthquake       1.66     California   \n",
       "9216           0            70  earthquake       2.13     California   \n",
       "9218           0            62  earthquake       2.00     California   \n",
       "9220           0            22  earthquake       1.20     California   \n",
       "9222           0           160  earthquake       3.22     California   \n",
       "...          ...           ...         ...        ...            ...   \n",
       "3386776        0             2  earthquake       0.36     California   \n",
       "3386778        0            62  earthquake       2.00  western Texas   \n",
       "3386780        0            35  earthquake       1.50         Alaska   \n",
       "3386782        0             0  earthquake       0.04         Alaska   \n",
       "3386784        0           298  earthquake       4.40        Vanuatu   \n",
       "\n",
       "          longitude   latitude       depth                              date  \n",
       "9214    -118.933667  37.647000    3.816000  1990-03-01 00:00:54.650000+00:00  \n",
       "9216    -117.717000  34.133000    4.275000  1990-03-01 00:01:07.890000+00:00  \n",
       "9218    -117.717000  34.133000    4.275000  1990-03-01 00:01:34.400000+00:00  \n",
       "9220    -117.705000  34.144000    5.702000  1990-03-01 00:01:52.400000+00:00  \n",
       "9222    -117.714000  34.130000    5.622000  1990-03-01 00:02:04.170000+00:00  \n",
       "...             ...        ...         ...                               ...  \n",
       "3386776 -122.790169  38.834667    1.590000  2023-03-02 23:42:41.550000+00:00  \n",
       "3386778 -104.407287  31.674925    7.185596  2023-03-02 23:42:51.801000+00:00  \n",
       "3386780 -150.759600  62.942400  109.700000  2023-03-02 23:48:58.538000+00:00  \n",
       "3386782 -155.069167  58.246000    4.900000  2023-03-02 23:50:44.380000+00:00  \n",
       "3386784  166.615000 -15.088000   10.000000  2023-03-02 23:56:30.104000+00:00  \n",
       "\n",
       "[16869 rows x 12 columns]"
      ],
      "text/html": [
       "<div>\n",
       "<style scoped>\n",
       "    .dataframe tbody tr th:only-of-type {\n",
       "        vertical-align: middle;\n",
       "    }\n",
       "\n",
       "    .dataframe tbody tr th {\n",
       "        vertical-align: top;\n",
       "    }\n",
       "\n",
       "    .dataframe thead th {\n",
       "        text-align: right;\n",
       "    }\n",
       "</style>\n",
       "<table border=\"1\" class=\"dataframe\">\n",
       "  <thead>\n",
       "    <tr style=\"text-align: right;\">\n",
       "      <th></th>\n",
       "      <th>time</th>\n",
       "      <th>place</th>\n",
       "      <th>status</th>\n",
       "      <th>tsunami</th>\n",
       "      <th>significance</th>\n",
       "      <th>data_type</th>\n",
       "      <th>magnitudo</th>\n",
       "      <th>state</th>\n",
       "      <th>longitude</th>\n",
       "      <th>latitude</th>\n",
       "      <th>depth</th>\n",
       "      <th>date</th>\n",
       "    </tr>\n",
       "  </thead>\n",
       "  <tbody>\n",
       "    <tr>\n",
       "      <th>9214</th>\n",
       "      <td>636249654650</td>\n",
       "      <td>3 km E of Mammoth Lakes, California</td>\n",
       "      <td>reviewed</td>\n",
       "      <td>0</td>\n",
       "      <td>42</td>\n",
       "      <td>earthquake</td>\n",
       "      <td>1.66</td>\n",
       "      <td>California</td>\n",
       "      <td>-118.933667</td>\n",
       "      <td>37.647000</td>\n",
       "      <td>3.816000</td>\n",
       "      <td>1990-03-01 00:00:54.650000+00:00</td>\n",
       "    </tr>\n",
       "    <tr>\n",
       "      <th>9216</th>\n",
       "      <td>636249667890</td>\n",
       "      <td>4km N of Claremont, CA</td>\n",
       "      <td>reviewed</td>\n",
       "      <td>0</td>\n",
       "      <td>70</td>\n",
       "      <td>earthquake</td>\n",
       "      <td>2.13</td>\n",
       "      <td>California</td>\n",
       "      <td>-117.717000</td>\n",
       "      <td>34.133000</td>\n",
       "      <td>4.275000</td>\n",
       "      <td>1990-03-01 00:01:07.890000+00:00</td>\n",
       "    </tr>\n",
       "    <tr>\n",
       "      <th>9218</th>\n",
       "      <td>636249694400</td>\n",
       "      <td>4km N of Claremont, CA</td>\n",
       "      <td>reviewed</td>\n",
       "      <td>0</td>\n",
       "      <td>62</td>\n",
       "      <td>earthquake</td>\n",
       "      <td>2.00</td>\n",
       "      <td>California</td>\n",
       "      <td>-117.717000</td>\n",
       "      <td>34.133000</td>\n",
       "      <td>4.275000</td>\n",
       "      <td>1990-03-01 00:01:34.400000+00:00</td>\n",
       "    </tr>\n",
       "    <tr>\n",
       "      <th>9220</th>\n",
       "      <td>636249712400</td>\n",
       "      <td>5km NNE of Claremont, CA</td>\n",
       "      <td>reviewed</td>\n",
       "      <td>0</td>\n",
       "      <td>22</td>\n",
       "      <td>earthquake</td>\n",
       "      <td>1.20</td>\n",
       "      <td>California</td>\n",
       "      <td>-117.705000</td>\n",
       "      <td>34.144000</td>\n",
       "      <td>5.702000</td>\n",
       "      <td>1990-03-01 00:01:52.400000+00:00</td>\n",
       "    </tr>\n",
       "    <tr>\n",
       "      <th>9222</th>\n",
       "      <td>636249724170</td>\n",
       "      <td>4km N of Claremont, CA</td>\n",
       "      <td>reviewed</td>\n",
       "      <td>0</td>\n",
       "      <td>160</td>\n",
       "      <td>earthquake</td>\n",
       "      <td>3.22</td>\n",
       "      <td>California</td>\n",
       "      <td>-117.714000</td>\n",
       "      <td>34.130000</td>\n",
       "      <td>5.622000</td>\n",
       "      <td>1990-03-01 00:02:04.170000+00:00</td>\n",
       "    </tr>\n",
       "    <tr>\n",
       "      <th>...</th>\n",
       "      <td>...</td>\n",
       "      <td>...</td>\n",
       "      <td>...</td>\n",
       "      <td>...</td>\n",
       "      <td>...</td>\n",
       "      <td>...</td>\n",
       "      <td>...</td>\n",
       "      <td>...</td>\n",
       "      <td>...</td>\n",
       "      <td>...</td>\n",
       "      <td>...</td>\n",
       "      <td>...</td>\n",
       "    </tr>\n",
       "    <tr>\n",
       "      <th>3386776</th>\n",
       "      <td>1677800561550</td>\n",
       "      <td>6km WNW of Cobb, CA</td>\n",
       "      <td>automatic</td>\n",
       "      <td>0</td>\n",
       "      <td>2</td>\n",
       "      <td>earthquake</td>\n",
       "      <td>0.36</td>\n",
       "      <td>California</td>\n",
       "      <td>-122.790169</td>\n",
       "      <td>38.834667</td>\n",
       "      <td>1.590000</td>\n",
       "      <td>2023-03-02 23:42:41.550000+00:00</td>\n",
       "    </tr>\n",
       "    <tr>\n",
       "      <th>3386778</th>\n",
       "      <td>1677800571801</td>\n",
       "      <td>western Texas</td>\n",
       "      <td>reviewed</td>\n",
       "      <td>0</td>\n",
       "      <td>62</td>\n",
       "      <td>earthquake</td>\n",
       "      <td>2.00</td>\n",
       "      <td>western Texas</td>\n",
       "      <td>-104.407287</td>\n",
       "      <td>31.674925</td>\n",
       "      <td>7.185596</td>\n",
       "      <td>2023-03-02 23:42:51.801000+00:00</td>\n",
       "    </tr>\n",
       "    <tr>\n",
       "      <th>3386780</th>\n",
       "      <td>1677800938538</td>\n",
       "      <td>49 km N of Petersville, Alaska</td>\n",
       "      <td>reviewed</td>\n",
       "      <td>0</td>\n",
       "      <td>35</td>\n",
       "      <td>earthquake</td>\n",
       "      <td>1.50</td>\n",
       "      <td>Alaska</td>\n",
       "      <td>-150.759600</td>\n",
       "      <td>62.942400</td>\n",
       "      <td>109.700000</td>\n",
       "      <td>2023-03-02 23:48:58.538000+00:00</td>\n",
       "    </tr>\n",
       "    <tr>\n",
       "      <th>3386782</th>\n",
       "      <td>1677801044380</td>\n",
       "      <td>83 km NNW of Karluk, Alaska</td>\n",
       "      <td>reviewed</td>\n",
       "      <td>0</td>\n",
       "      <td>0</td>\n",
       "      <td>earthquake</td>\n",
       "      <td>0.04</td>\n",
       "      <td>Alaska</td>\n",
       "      <td>-155.069167</td>\n",
       "      <td>58.246000</td>\n",
       "      <td>4.900000</td>\n",
       "      <td>2023-03-02 23:50:44.380000+00:00</td>\n",
       "    </tr>\n",
       "    <tr>\n",
       "      <th>3386784</th>\n",
       "      <td>1677801390104</td>\n",
       "      <td>49 km W of Port-Olry, Vanuatu</td>\n",
       "      <td>reviewed</td>\n",
       "      <td>0</td>\n",
       "      <td>298</td>\n",
       "      <td>earthquake</td>\n",
       "      <td>4.40</td>\n",
       "      <td>Vanuatu</td>\n",
       "      <td>166.615000</td>\n",
       "      <td>-15.088000</td>\n",
       "      <td>10.000000</td>\n",
       "      <td>2023-03-02 23:56:30.104000+00:00</td>\n",
       "    </tr>\n",
       "  </tbody>\n",
       "</table>\n",
       "<p>16869 rows × 12 columns</p>\n",
       "</div>"
      ]
     },
     "execution_count": 13,
     "metadata": {},
     "output_type": "execute_result"
    }
   ],
   "execution_count": 13
  },
  {
   "metadata": {
    "ExecuteTime": {
     "end_time": "2024-11-13T12:44:22.269229Z",
     "start_time": "2024-11-13T12:44:16.995978Z"
    }
   },
   "cell_type": "code",
   "source": [
    "# Clean data\n",
    "df.drop_duplicates(keep='first', inplace=True)"
   ],
   "id": "ac10cbea83271861",
   "outputs": [],
   "execution_count": 14
  },
  {
   "metadata": {
    "ExecuteTime": {
     "end_time": "2024-11-13T12:45:41.484388Z",
     "start_time": "2024-11-13T12:45:35.691138Z"
    }
   },
   "cell_type": "code",
   "source": "df['date'] = pd.to_datetime(df['date'], format='mixed')",
   "id": "ba3260e8cd555a30",
   "outputs": [],
   "execution_count": 16
  },
  {
   "metadata": {
    "ExecuteTime": {
     "end_time": "2024-11-13T12:45:45.746197Z",
     "start_time": "2024-11-13T12:45:43.762139Z"
    }
   },
   "cell_type": "code",
   "source": "df['time'] = pd.to_datetime(df['time'], format='mixed').dt.time",
   "id": "e68299bb28a73871",
   "outputs": [],
   "execution_count": 17
  },
  {
   "metadata": {},
   "cell_type": "markdown",
   "source": "## Plots",
   "id": "29b904a09fcd6aa7"
  },
  {
   "metadata": {
    "ExecuteTime": {
     "end_time": "2024-11-13T12:46:16.351460Z",
     "start_time": "2024-11-13T12:46:16.192037Z"
    }
   },
   "cell_type": "code",
   "source": "state_counts = df['state'].value_counts()",
   "id": "142c3d7ee18605d3",
   "outputs": [],
   "execution_count": 19
  },
  {
   "metadata": {
    "ExecuteTime": {
     "end_time": "2024-11-13T12:46:16.518921Z",
     "start_time": "2024-11-13T12:46:16.513951Z"
    }
   },
   "cell_type": "code",
   "source": "state_counts.head(30)",
   "id": "79f4175531d0331b",
   "outputs": [
    {
     "data": {
      "text/plain": [
       "state\n",
       " California             862679\n",
       " Alaska                 773901\n",
       "California              489003\n",
       " Nevada                 173483\n",
       " Hawaii                 124679\n",
       " Washington              80111\n",
       " Utah                    55168\n",
       " Montana                 53167\n",
       " Indonesia               48282\n",
       " Puerto Rico             46055\n",
       " Chile                   36838\n",
       " Greece                  30286\n",
       " B.C.                    29883\n",
       " Japan                   28800\n",
       " Oklahoma                24944\n",
       " Papua New Guinea        22912\n",
       " Italy                   18539\n",
       " Philippines             17727\n",
       " Oregon                  17593\n",
       " Mexico                  16479\n",
       " Turkey                  15885\n",
       " Russia                  15467\n",
       " Wyoming                 15111\n",
       " Tonga                   12753\n",
       " Idaho                   12608\n",
       " Aleutian Islands        12461\n",
       " New Zealand             12209\n",
       " Canada                  11532\n",
       " U.S. Virgin Islands     11207\n",
       " France                  11199\n",
       "Name: count, dtype: int64"
      ]
     },
     "execution_count": 20,
     "metadata": {},
     "output_type": "execute_result"
    }
   ],
   "execution_count": 20
  },
  {
   "metadata": {
    "ExecuteTime": {
     "end_time": "2024-11-13T12:46:17.108415Z",
     "start_time": "2024-11-13T12:46:16.946051Z"
    }
   },
   "cell_type": "code",
   "source": "state_counts.head(10).plot(kind='bar', xlabel='State', ylabel='Earthquakes')",
   "id": "a24d873794fe2854",
   "outputs": [
    {
     "data": {
      "text/plain": [
       "<Axes: xlabel='State', ylabel='Count'>"
      ]
     },
     "execution_count": 21,
     "metadata": {},
     "output_type": "execute_result"
    },
    {
     "data": {
      "text/plain": [
       "<Figure size 640x480 with 1 Axes>"
      ],
      "image/png": "[encoded data removed]"
     },
     "metadata": {},
     "output_type": "display_data"
    }
   ],
   "execution_count": 21
  },
  {
   "metadata": {},
   "cell_type": "code",
   "source": "df[['latitude', 'longitude']].plot(kind='scatter', x='latitude', y='longitude')",
   "id": "eb40c04a2c470a8f",
   "outputs": [],
   "execution_count": null
  },
  {
   "metadata": {
    "ExecuteTime": {
     "end_time": "2024-11-13T12:46:53.103099Z",
     "start_time": "2024-11-13T12:46:52.909976Z"
    }
   },
   "cell_type": "code",
   "source": "df['year'] = df['date'].dt.year",
   "id": "fee68d9045b68f8c",
   "outputs": [],
   "execution_count": 23
  },
  {
   "metadata": {
    "ExecuteTime": {
     "end_time": "2024-11-13T13:05:51.925782Z",
     "start_time": "2024-11-13T13:05:51.699728Z"
    }
   },
   "cell_type": "code",
   "source": "df['year'].value_counts().plot(kind='bar', xlabel='Year', ylabel='Earthquakes', figsize=(10, 8))",
   "id": "6bb98bbbf80b4ef3",
   "outputs": [
    {
     "data": {
      "text/plain": [
       "<Axes: xlabel='Year', ylabel='Earthquakes'>"
      ]
     },
     "execution_count": 52,
     "metadata": {},
     "output_type": "execute_result"
    },
    {
     "data": {
      "text/plain": [
       "<Figure size 1000x800 with 1 Axes>"
      ],
      "image/png": "[encoded data removed]"
     },
     "metadata": {},
     "output_type": "display_data"
    }
   ],
   "execution_count": 52
  },
  {
   "metadata": {},
   "cell_type": "code",
   "outputs": [],
   "execution_count": null,
   "source": "",
   "id": "3e81796aa7f6dc5c"
  }
 ],
 "metadata": {
  "kernelspec": {
   "display_name": "Python 3",
   "language": "python",
   "name": "python3"
  },
  "language_info": {
   "codemirror_mode": {
    "name": "ipython",
    "version": 2
   },
   "file_extension": ".py",
   "mimetype": "text/x-python",
   "name": "python",
   "nbconvert_exporter": "python",
   "pygments_lexer": "ipython2",
   "version": "2.7.6"
  }
 },
 "nbformat": 4,
 "nbformat_minor": 5
}
