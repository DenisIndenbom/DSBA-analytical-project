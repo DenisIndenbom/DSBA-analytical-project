{
 "cells": [
  {
   "cell_type": "code",
   "id": "initial_id",
   "metadata": {
    "collapsed": true,
    "ExecuteTime": {
     "end_time": "2024-11-13T10:15:38.797995Z",
     "start_time": "2024-11-13T10:15:38.790363Z"
    }
   },
   "source": "import pandas as pd",
   "outputs": [],
   "execution_count": 6
  },
  {
   "metadata": {
    "ExecuteTime": {
     "end_time": "2024-11-13T10:15:56.183540Z",
     "start_time": "2024-11-13T10:15:38.935650Z"
    }
   },
   "cell_type": "code",
   "source": "df = pd.read_csv('./data/Eartquakes-1990-2023.csv')",
   "id": "c851051f8c33cf97",
   "outputs": [],
   "execution_count": 7
  },
  {
   "metadata": {
    "ExecuteTime": {
     "end_time": "2024-11-13T10:15:56.307577Z",
     "start_time": "2024-11-13T10:15:56.283247Z"
    }
   },
   "cell_type": "code",
   "source": "df.head()",
   "id": "76c97f2de3ec440d",
   "outputs": [
    {
     "data": {
      "text/plain": [
       "           time                                 place    status  tsunami  \\\n",
       "0  631153353990     12 km NNW of Meadow Lakes, Alaska  reviewed        0   \n",
       "1  631153491210            14 km S of Volcano, Hawaii  reviewed        0   \n",
       "2  631154083450            7 km W of Cobb, California  reviewed        0   \n",
       "3  631155512130  11 km E of Mammoth Lakes, California  reviewed        0   \n",
       "4  631155824490                16km N of Fillmore, CA  reviewed        0   \n",
       "\n",
       "   significance   data_type  magnitudo        state   longitude   latitude  \\\n",
       "0            96  earthquake       2.50       Alaska -149.669200  61.730200   \n",
       "1            31  earthquake       1.41       Hawaii -155.212333  19.317667   \n",
       "2            19  earthquake       1.11   California -122.806167  38.821000   \n",
       "3            15  earthquake       0.98   California -118.846333  37.664333   \n",
       "4           134  earthquake       2.95   California -118.934000  34.546000   \n",
       "\n",
       "    depth                              date  \n",
       "0  30.100  1990-01-01 00:22:33.990000+00:00  \n",
       "1   6.585  1990-01-01 00:24:51.210000+00:00  \n",
       "2   3.220  1990-01-01 00:34:43.450000+00:00  \n",
       "3  -0.584  1990-01-01 00:58:32.130000+00:00  \n",
       "4  16.122  1990-01-01 01:03:44.490000+00:00  "
      ],
      "text/html": [
       "<div>\n",
       "<style scoped>\n",
       "    .dataframe tbody tr th:only-of-type {\n",
       "        vertical-align: middle;\n",
       "    }\n",
       "\n",
       "    .dataframe tbody tr th {\n",
       "        vertical-align: top;\n",
       "    }\n",
       "\n",
       "    .dataframe thead th {\n",
       "        text-align: right;\n",
       "    }\n",
       "</style>\n",
       "<table border=\"1\" class=\"dataframe\">\n",
       "  <thead>\n",
       "    <tr style=\"text-align: right;\">\n",
       "      <th></th>\n",
       "      <th>time</th>\n",
       "      <th>place</th>\n",
       "      <th>status</th>\n",
       "      <th>tsunami</th>\n",
       "      <th>significance</th>\n",
       "      <th>data_type</th>\n",
       "      <th>magnitudo</th>\n",
       "      <th>state</th>\n",
       "      <th>longitude</th>\n",
       "      <th>latitude</th>\n",
       "      <th>depth</th>\n",
       "      <th>date</th>\n",
       "    </tr>\n",
       "  </thead>\n",
       "  <tbody>\n",
       "    <tr>\n",
       "      <th>0</th>\n",
       "      <td>631153353990</td>\n",
       "      <td>12 km NNW of Meadow Lakes, Alaska</td>\n",
       "      <td>reviewed</td>\n",
       "      <td>0</td>\n",
       "      <td>96</td>\n",
       "      <td>earthquake</td>\n",
       "      <td>2.50</td>\n",
       "      <td>Alaska</td>\n",
       "      <td>-149.669200</td>\n",
       "      <td>61.730200</td>\n",
       "      <td>30.100</td>\n",
       "      <td>1990-01-01 00:22:33.990000+00:00</td>\n",
       "    </tr>\n",
       "    <tr>\n",
       "      <th>1</th>\n",
       "      <td>631153491210</td>\n",
       "      <td>14 km S of Volcano, Hawaii</td>\n",
       "      <td>reviewed</td>\n",
       "      <td>0</td>\n",
       "      <td>31</td>\n",
       "      <td>earthquake</td>\n",
       "      <td>1.41</td>\n",
       "      <td>Hawaii</td>\n",
       "      <td>-155.212333</td>\n",
       "      <td>19.317667</td>\n",
       "      <td>6.585</td>\n",
       "      <td>1990-01-01 00:24:51.210000+00:00</td>\n",
       "    </tr>\n",
       "    <tr>\n",
       "      <th>2</th>\n",
       "      <td>631154083450</td>\n",
       "      <td>7 km W of Cobb, California</td>\n",
       "      <td>reviewed</td>\n",
       "      <td>0</td>\n",
       "      <td>19</td>\n",
       "      <td>earthquake</td>\n",
       "      <td>1.11</td>\n",
       "      <td>California</td>\n",
       "      <td>-122.806167</td>\n",
       "      <td>38.821000</td>\n",
       "      <td>3.220</td>\n",
       "      <td>1990-01-01 00:34:43.450000+00:00</td>\n",
       "    </tr>\n",
       "    <tr>\n",
       "      <th>3</th>\n",
       "      <td>631155512130</td>\n",
       "      <td>11 km E of Mammoth Lakes, California</td>\n",
       "      <td>reviewed</td>\n",
       "      <td>0</td>\n",
       "      <td>15</td>\n",
       "      <td>earthquake</td>\n",
       "      <td>0.98</td>\n",
       "      <td>California</td>\n",
       "      <td>-118.846333</td>\n",
       "      <td>37.664333</td>\n",
       "      <td>-0.584</td>\n",
       "      <td>1990-01-01 00:58:32.130000+00:00</td>\n",
       "    </tr>\n",
       "    <tr>\n",
       "      <th>4</th>\n",
       "      <td>631155824490</td>\n",
       "      <td>16km N of Fillmore, CA</td>\n",
       "      <td>reviewed</td>\n",
       "      <td>0</td>\n",
       "      <td>134</td>\n",
       "      <td>earthquake</td>\n",
       "      <td>2.95</td>\n",
       "      <td>California</td>\n",
       "      <td>-118.934000</td>\n",
       "      <td>34.546000</td>\n",
       "      <td>16.122</td>\n",
       "      <td>1990-01-01 01:03:44.490000+00:00</td>\n",
       "    </tr>\n",
       "  </tbody>\n",
       "</table>\n",
       "</div>"
      ]
     },
     "execution_count": 9,
     "metadata": {},
     "output_type": "execute_result"
    }
   ],
   "execution_count": 9
  },
  {
   "metadata": {},
   "cell_type": "code",
   "source": "",
   "id": "1c276cc6e1a4d8e8",
   "outputs": [],
   "execution_count": null
  }
 ],
 "metadata": {
  "kernelspec": {
   "display_name": "Python 3",
   "language": "python",
   "name": "python3"
  },
  "language_info": {
   "codemirror_mode": {
    "name": "ipython",
    "version": 2
   },
   "file_extension": ".py",
   "mimetype": "text/x-python",
   "name": "python",
   "nbconvert_exporter": "python",
   "pygments_lexer": "ipython2",
   "version": "2.7.6"
  }
 },
 "nbformat": 4,
 "nbformat_minor": 5
}
